{
 "cells": [
  {
   "cell_type": "code",
   "execution_count": 8,
   "metadata": {},
   "outputs": [],
   "source": [
    "import pandas as pd\n",
    "\n",
    "df_cpt = pd.read_csv(\"F:\\\\yuchenxi\\\\UDEM\\\\diro\\\\FedLDA\\\\MixEHR_seed\\\\data\\\\cpt_toy_data.csv\")\n",
    "df_icd = pd.read_csv(\"F:\\\\yuchenxi\\\\UDEM\\\\diro\\\\FedLDA\\\\MixEHR_seed\\\\data\\\\icd_toy_data.csv\")\n",
    "df_drg = pd.read_csv(\"F:\\\\yuchenxi\\\\UDEM\\\\diro\\\\FedLDA\\\\MixEHR_seed\\\\data\\\\drg_toy_data.csv\")\n",
    "df_pres = pd.read_csv(\"F:\\\\yuchenxi\\\\UDEM\\\\diro\\\\FedLDA\\\\MixEHR_seed\\\\data\\\\pres_toy_data.csv\")\n",
    "\n",
    "# df_cpt = pd.read_csv(\"./data/cpt_toy_data.csv\")\n",
    "# print(df_cpt)"
   ]
  },
  {
   "cell_type": "code",
   "execution_count": 4,
   "metadata": {},
   "outputs": [
    {
     "name": "stdout",
     "output_type": "stream",
     "text": [
      "CPT 661\n",
      "ICD 6696\n",
      "Phecode 1621\n",
      "PRES 2368\n",
      "DRG 774\n",
      "set()\n",
      "set()\n"
     ]
    }
   ],
   "source": [
    "cpt_unique = set(df_cpt[\"ICD9_CODE\"].unique())\n",
    "icd_unique = set(df_icd[\"ICD9\"].unique())\n",
    "phecode_unique = set(df_icd[\"PheCode\"].unique())\n",
    "\n",
    "pres_unique = set(df_pres[\"COMPOUND_ID\"].unique())\n",
    "drg_unique = set(df_drg[\"COMPOUND_ID\"].unique())\n",
    "\n",
    "print(\"CPT\",len(cpt_unique))\n",
    "print(\"ICD\", len(icd_unique))\n",
    "print(\"Phecode\", len(phecode_unique))\n",
    "\n",
    "print(\"PRES\", len(pres_unique))\n",
    "print(\"DRG\", len(drg_unique))\n",
    "\n",
    "intersection_cpt_icd = cpt_unique & icd_unique \n",
    "intersection_drg_pres = drg_unique & pres_unique\n",
    "print(intersection_cpt_icd)\n",
    "print(intersection_drg_pres)\n",
    "\n"
   ]
  },
  {
   "cell_type": "code",
   "execution_count": null,
   "metadata": {},
   "outputs": [],
   "source": [
    "cpt_unique = [int(element) for element in set(df_cpt[\"ICD9_CODE\"].unique())]\n",
    "icd_unique = [int(element) for element in set(df_icd[\"ICD9\"].unique())]"
   ]
  },
  {
   "cell_type": "code",
   "execution_count": 9,
   "metadata": {},
   "outputs": [
    {
     "name": "stdout",
     "output_type": "stream",
     "text": [
      "<corpus.Corpus object at 0x000001CA8012A0A0>\n"
     ]
    }
   ],
   "source": [
    "import pickle as pkl\n",
    "from corpus import Corpus\n",
    "\n",
    "with open(\"./store/corpus.pkl\", \"rb\") as f:\n",
    "    corpus = pkl.load(f)\n",
    "print(corpus)"
   ]
  },
  {
   "cell_type": "code",
   "execution_count": 26,
   "metadata": {},
   "outputs": [
    {
     "name": "stdout",
     "output_type": "stream",
     "text": [
      "number of keys 1620\n",
      "number of values 5855\n",
      "1620\n",
      "torch.Size([6696, 1620])\n",
      "tensor([0, 1, 0,  ..., 0, 0, 0], dtype=torch.int32)\n",
      "1620\n",
      "{tensor(3), tensor(1), tensor(1), tensor(3), tensor(18), tensor(18), tensor(1), tensor(26), tensor(38), tensor(1), tensor(1), tensor(1), tensor(3), tensor(2), tensor(2), tensor(2), tensor(4), tensor(1), tensor(1), tensor(1), tensor(1), tensor(9), tensor(47), tensor(6), tensor(1), tensor(1), tensor(4), tensor(2), tensor(1), tensor(1), tensor(1), tensor(1), tensor(1), tensor(1), tensor(2), tensor(3), tensor(2), tensor(6), tensor(6), tensor(4), tensor(2), tensor(1), tensor(5), tensor(3), tensor(1), tensor(1), tensor(1), tensor(1), tensor(7), tensor(3), tensor(1), tensor(1), tensor(3), tensor(1), tensor(4), tensor(1), tensor(5), tensor(1), tensor(5), tensor(4), tensor(1), tensor(5), tensor(1), tensor(1), tensor(2), tensor(1), tensor(3), tensor(2), tensor(1), tensor(1), tensor(6), tensor(1), tensor(2), tensor(1), tensor(1), tensor(6), tensor(1), tensor(2), tensor(1), tensor(1), tensor(2), tensor(1), tensor(4), tensor(8), tensor(1), tensor(1), tensor(3), tensor(1), tensor(2), tensor(4), tensor(2), tensor(1), tensor(1), tensor(40), tensor(6), tensor(1), tensor(5), tensor(4), tensor(2), tensor(1), tensor(1), tensor(1), tensor(1), tensor(1), tensor(1), tensor(1), tensor(2), tensor(6), tensor(2), tensor(4), tensor(5), tensor(6), tensor(9), tensor(1), tensor(7), tensor(10), tensor(8), tensor(1), tensor(1), tensor(1), tensor(4), tensor(1), tensor(1), tensor(3), tensor(1), tensor(3), tensor(1), tensor(4), tensor(2), tensor(1), tensor(1), tensor(2), tensor(1), tensor(4), tensor(1), tensor(1), tensor(4), tensor(1), tensor(1), tensor(3), tensor(5), tensor(1), tensor(1), tensor(1), tensor(12), tensor(1), tensor(1), tensor(3), tensor(1), tensor(4), tensor(1), tensor(1), tensor(1), tensor(2), tensor(1), tensor(6), tensor(1), tensor(2), tensor(5), tensor(7), tensor(3), tensor(1), tensor(1), tensor(1), tensor(1), tensor(6), tensor(1), tensor(5), tensor(1), tensor(1), tensor(6), tensor(4), tensor(2), tensor(2), tensor(2), tensor(2), tensor(1), tensor(2), tensor(1), tensor(1), tensor(1), tensor(1), tensor(14), tensor(1), tensor(3), tensor(6), tensor(1), tensor(8), tensor(6), tensor(1), tensor(1), tensor(6), tensor(5), tensor(11), tensor(1), tensor(2), tensor(1), tensor(1), tensor(1), tensor(9), tensor(2), tensor(3), tensor(5), tensor(2), tensor(2), tensor(2), tensor(1), tensor(7), tensor(2), tensor(5), tensor(1), tensor(1), tensor(4), tensor(11), tensor(1), tensor(5), tensor(1), tensor(3), tensor(1), tensor(5), tensor(1), tensor(1), tensor(4), tensor(3), tensor(1), tensor(5), tensor(1), tensor(1), tensor(5), tensor(3), tensor(6), tensor(3), tensor(2), tensor(3), tensor(10), tensor(2), tensor(3), tensor(5), tensor(33), tensor(1), tensor(2), tensor(2), tensor(1), tensor(1), tensor(4), tensor(6), tensor(1), tensor(5), tensor(3), tensor(3), tensor(2), tensor(4), tensor(2), tensor(19), tensor(1), tensor(7), tensor(1), tensor(2), tensor(1), tensor(4), tensor(4), tensor(5), tensor(1), tensor(8), tensor(3), tensor(2), tensor(1), tensor(1), tensor(9), tensor(2), tensor(11), tensor(3), tensor(1), tensor(28), tensor(3), tensor(2), tensor(2), tensor(6), tensor(1), tensor(2), tensor(1), tensor(5), tensor(3), tensor(1), tensor(4), tensor(3), tensor(6), tensor(1), tensor(1), tensor(4), tensor(1), tensor(1), tensor(2), tensor(1), tensor(1), tensor(4), tensor(1), tensor(2), tensor(7), tensor(1), tensor(5), tensor(8), tensor(4), tensor(1), tensor(1), tensor(1), tensor(5), tensor(1), tensor(4), tensor(2), tensor(1), tensor(4), tensor(1), tensor(3), tensor(1), tensor(2), tensor(13), tensor(1), tensor(4), tensor(2), tensor(1), tensor(16), tensor(1), tensor(7), tensor(1), tensor(1), tensor(2), tensor(1), tensor(1), tensor(4), tensor(1), tensor(1), tensor(1), tensor(6), tensor(4), tensor(1), tensor(4), tensor(2), tensor(1), tensor(3), tensor(10), tensor(1), tensor(6), tensor(1), tensor(4), tensor(3), tensor(1), tensor(1), tensor(1), tensor(2), tensor(5), tensor(3), tensor(1), tensor(4), tensor(2), tensor(5), tensor(3), tensor(8), tensor(1), tensor(3), tensor(2), tensor(1), tensor(7), tensor(5), tensor(3), tensor(6), tensor(1), tensor(15), tensor(3), tensor(2), tensor(7), tensor(2), tensor(4), tensor(7), tensor(2), tensor(6), tensor(7), tensor(1), tensor(3), tensor(1), tensor(3), tensor(3), tensor(6), tensor(5), tensor(1), tensor(3), tensor(2), tensor(1), tensor(1), tensor(1), tensor(1), tensor(1), tensor(8), tensor(1), tensor(4), tensor(18), tensor(4), tensor(2), tensor(11), tensor(1), tensor(5), tensor(3), tensor(1), tensor(18), tensor(1), tensor(7), tensor(8), tensor(3), tensor(5), tensor(2), tensor(1), tensor(1), tensor(2), tensor(5), tensor(1), tensor(7), tensor(1), tensor(7), tensor(2), tensor(5), tensor(4), tensor(3), tensor(1), tensor(2), tensor(14), tensor(1), tensor(1), tensor(1), tensor(10), tensor(2), tensor(4), tensor(2), tensor(1), tensor(5), tensor(4), tensor(1), tensor(4), tensor(4), tensor(1), tensor(1), tensor(1), tensor(2), tensor(1), tensor(1), tensor(1), tensor(2), tensor(4), tensor(1), tensor(1), tensor(3), tensor(5), tensor(3), tensor(1), tensor(14), tensor(10), tensor(6), tensor(2), tensor(1), tensor(3), tensor(3), tensor(1), tensor(4), tensor(2), tensor(2), tensor(1), tensor(3), tensor(1), tensor(4), tensor(3), tensor(1), tensor(2), tensor(5), tensor(2), tensor(2), tensor(1), tensor(1), tensor(2), tensor(1), tensor(1), tensor(3), tensor(1), tensor(2), tensor(1), tensor(2), tensor(9), tensor(3), tensor(1), tensor(4), tensor(2), tensor(5), tensor(5), tensor(2), tensor(5), tensor(1), tensor(1), tensor(2), tensor(1), tensor(1), tensor(26), tensor(2), tensor(1), tensor(43), tensor(2), tensor(2), tensor(2), tensor(2), tensor(5), tensor(4), tensor(2), tensor(3), tensor(1), tensor(1), tensor(3), tensor(7), tensor(25), tensor(1), tensor(2), tensor(1), tensor(1), tensor(6), tensor(1), tensor(11), tensor(1), tensor(1), tensor(5), tensor(6), tensor(15), tensor(2), tensor(2), tensor(1), tensor(6), tensor(3), tensor(2), tensor(1), tensor(1), tensor(1), tensor(2), tensor(2), tensor(2), tensor(1), tensor(1), tensor(1), tensor(2), tensor(10), tensor(2), tensor(1), tensor(6), tensor(1), tensor(6), tensor(16), tensor(3), tensor(1), tensor(2), tensor(3), tensor(2), tensor(1), tensor(2), tensor(1), tensor(1), tensor(1), tensor(4), tensor(3), tensor(3), tensor(9), tensor(1), tensor(2), tensor(1), tensor(2), tensor(1), tensor(6), tensor(1), tensor(1), tensor(1), tensor(3), tensor(3), tensor(4), tensor(1), tensor(3), tensor(2), tensor(107), tensor(3), tensor(6), tensor(3), tensor(1), tensor(1), tensor(1), tensor(1), tensor(6), tensor(10), tensor(1), tensor(1), tensor(1), tensor(1), tensor(1), tensor(4), tensor(11), tensor(1), tensor(1), tensor(1), tensor(3), tensor(7), tensor(1), tensor(3), tensor(9), tensor(1), tensor(4), tensor(1), tensor(1), tensor(1), tensor(10), tensor(2), tensor(3), tensor(4), tensor(1), tensor(1), tensor(4), tensor(1), tensor(2), tensor(1), tensor(1), tensor(1), tensor(2), tensor(2), tensor(3), tensor(32), tensor(1), tensor(9), tensor(3), tensor(2), tensor(21), tensor(3), tensor(1), tensor(1), tensor(5), tensor(1), tensor(6), tensor(5), tensor(1), tensor(3), tensor(3), tensor(8), tensor(3), tensor(5), tensor(6), tensor(1), tensor(1), tensor(1), tensor(1), tensor(1), tensor(1), tensor(4), tensor(1), tensor(3), tensor(2), tensor(2), tensor(3), tensor(1), tensor(2), tensor(3), tensor(14), tensor(14), tensor(3), tensor(1), tensor(3), tensor(3), tensor(1), tensor(2), tensor(1), tensor(4), tensor(1), tensor(1), tensor(4), tensor(2), tensor(3), tensor(1), tensor(6), tensor(3), tensor(9), tensor(1), tensor(3), tensor(2), tensor(1), tensor(2), tensor(1), tensor(15), tensor(1), tensor(1), tensor(3), tensor(2), tensor(8), tensor(2), tensor(5), tensor(1), tensor(1), tensor(1), tensor(1), tensor(1), tensor(1), tensor(3), tensor(1), tensor(1), tensor(1), tensor(5), tensor(1), tensor(2), tensor(1), tensor(1), tensor(1), tensor(1), tensor(15), tensor(9), tensor(3), tensor(1), tensor(1), tensor(1), tensor(2), tensor(1), tensor(1), tensor(2), tensor(1), tensor(1), tensor(1), tensor(1), tensor(6), tensor(5), tensor(1), tensor(1), tensor(1), tensor(1), tensor(12), tensor(6), tensor(2), tensor(2), tensor(1), tensor(1), tensor(1), tensor(3), tensor(1), tensor(3), tensor(7), tensor(4), tensor(1), tensor(1), tensor(2), tensor(2), tensor(1), tensor(2), tensor(6), tensor(1), tensor(1), tensor(1), tensor(1), tensor(3), tensor(9), tensor(2), tensor(1), tensor(1), tensor(1), tensor(5), tensor(2), tensor(1), tensor(3), tensor(36), tensor(1), tensor(1), tensor(8), tensor(4), tensor(8), tensor(1), tensor(2), tensor(9), tensor(2), tensor(2), tensor(3), tensor(1), tensor(1), tensor(3), tensor(1), tensor(6), tensor(2), tensor(1), tensor(15), tensor(1), tensor(1), tensor(7), tensor(3), tensor(4), tensor(2), tensor(1), tensor(1), tensor(1), tensor(2), tensor(6), tensor(4), tensor(1), tensor(2), tensor(1), tensor(2), tensor(1), tensor(3), tensor(6), tensor(2), tensor(3), tensor(11), tensor(2), tensor(1), tensor(6), tensor(2), tensor(1), tensor(9), tensor(4), tensor(6), tensor(1), tensor(1), tensor(1), tensor(1), tensor(1), tensor(1), tensor(2), tensor(1), tensor(3), tensor(1), tensor(1), tensor(1), tensor(4), tensor(1), tensor(1), tensor(2), tensor(4), tensor(1), tensor(12), tensor(1), tensor(4), tensor(1), tensor(1), tensor(11), tensor(2), tensor(1), tensor(1), tensor(2), tensor(1), tensor(1), tensor(1), tensor(4), tensor(3), tensor(2), tensor(1), tensor(18), tensor(5), tensor(1), tensor(20), tensor(1), tensor(1), tensor(1), tensor(18), tensor(7), tensor(4), tensor(10), tensor(3), tensor(1), tensor(4), tensor(7), tensor(3), tensor(2), tensor(1), tensor(3), tensor(1), tensor(1), tensor(1), tensor(6), tensor(1), tensor(1), tensor(3), tensor(5), tensor(1), tensor(2), tensor(4), tensor(1), tensor(2), tensor(1), tensor(7), tensor(1), tensor(1), tensor(1), tensor(1), tensor(1), tensor(1), tensor(1), tensor(2), tensor(1), tensor(8), tensor(5), tensor(1), tensor(2), tensor(1), tensor(1), tensor(1), tensor(6), tensor(2), tensor(3), tensor(5), tensor(1), tensor(1), tensor(12), tensor(1), tensor(7), tensor(10), tensor(1), tensor(1), tensor(2), tensor(1), tensor(3), tensor(31), tensor(166), tensor(1), tensor(33), tensor(12), tensor(3), tensor(1), tensor(1), tensor(10), tensor(2), tensor(1), tensor(1), tensor(1), tensor(7), tensor(9), tensor(3), tensor(2), tensor(1), tensor(10), tensor(2), tensor(1), tensor(6), tensor(1), tensor(1), tensor(1), tensor(1), tensor(1), tensor(1), tensor(3), tensor(1), tensor(5), tensor(14), tensor(3), tensor(2), tensor(1), tensor(1), tensor(1), tensor(1), tensor(1), tensor(1), tensor(1), tensor(3), tensor(1), tensor(5), tensor(2), tensor(6), tensor(3), tensor(10), tensor(2), tensor(1), tensor(1), tensor(2), tensor(2), tensor(2), tensor(1), tensor(1), tensor(1), tensor(1), tensor(5), tensor(4), tensor(5), tensor(1), tensor(2), tensor(1), tensor(1), tensor(8), tensor(1), tensor(1), tensor(2), tensor(1), tensor(3), tensor(6), tensor(4), tensor(1), tensor(12), tensor(1), tensor(1), tensor(7), tensor(1), tensor(2), tensor(1), tensor(5), tensor(2), tensor(1), tensor(3), tensor(6), tensor(3), tensor(1), tensor(3), tensor(2), tensor(4), tensor(4), tensor(4), tensor(1), tensor(4), tensor(3), tensor(1), tensor(1), tensor(2), tensor(1), tensor(2), tensor(1), tensor(5), tensor(2), tensor(1), tensor(4), tensor(2), tensor(6), tensor(1), tensor(1), tensor(9), tensor(4), tensor(1), tensor(1), tensor(2), tensor(1), tensor(3), tensor(1), tensor(1), tensor(3), tensor(1), tensor(4), tensor(2), tensor(2), tensor(2), tensor(1), tensor(2), tensor(1), tensor(4), tensor(4), tensor(1), tensor(1), tensor(2), tensor(1), tensor(6), tensor(5), tensor(4), tensor(1), tensor(5), tensor(1), tensor(2), tensor(11), tensor(1), tensor(5), tensor(1), tensor(1), tensor(1), tensor(1), tensor(1), tensor(1), tensor(8), tensor(1), tensor(20), tensor(1), tensor(3), tensor(3), tensor(7), tensor(5), tensor(1), tensor(1), tensor(1), tensor(1), tensor(1), tensor(2), tensor(2), tensor(1), tensor(2), tensor(1), tensor(2), tensor(2), tensor(1), tensor(6), tensor(9), tensor(1), tensor(1), tensor(5), tensor(1), tensor(1), tensor(1), tensor(5), tensor(1), tensor(1), tensor(1), tensor(3), tensor(15), tensor(15), tensor(12), tensor(4), tensor(1), tensor(3), tensor(1), tensor(2), tensor(1), tensor(4), tensor(1), tensor(1), tensor(8), tensor(1), tensor(1), tensor(9), tensor(2), tensor(9), tensor(10), tensor(3), tensor(8), tensor(2), tensor(2), tensor(2), tensor(1), tensor(2), tensor(1), tensor(1), tensor(1), tensor(2), tensor(3), tensor(1), tensor(1), tensor(4), tensor(7), tensor(2), tensor(6), tensor(2), tensor(3), tensor(1), tensor(7), tensor(7), tensor(5), tensor(5), tensor(3), tensor(1), tensor(1), tensor(1), tensor(1), tensor(1), tensor(1), tensor(1), tensor(1), tensor(1), tensor(2), tensor(1), tensor(1), tensor(5), tensor(4), tensor(2), tensor(1), tensor(1), tensor(6), tensor(3), tensor(1), tensor(1), tensor(1), tensor(1), tensor(5), tensor(2), tensor(1), tensor(10), tensor(6), tensor(1), tensor(1), tensor(7), tensor(2), tensor(1), tensor(8), tensor(1), tensor(1), tensor(3), tensor(1), tensor(3), tensor(1), tensor(4), tensor(2), tensor(4), tensor(2), tensor(4), tensor(2), tensor(2), tensor(2), tensor(1), tensor(7), tensor(3), tensor(1), tensor(6), tensor(2), tensor(2), tensor(1), tensor(2), tensor(3), tensor(1), tensor(8), tensor(1), tensor(3), tensor(4), tensor(1), tensor(4), tensor(2), tensor(3), tensor(14), tensor(2), tensor(5), tensor(1), tensor(10), tensor(1), tensor(1), tensor(1), tensor(1), tensor(1), tensor(1), tensor(1), tensor(8), tensor(4), tensor(2), tensor(11), tensor(1), tensor(4), tensor(1), tensor(5), tensor(16), tensor(6), tensor(1), tensor(1), tensor(1), tensor(2), tensor(2), tensor(3), tensor(1), tensor(1), tensor(9), tensor(1), tensor(1), tensor(1), tensor(1), tensor(2), tensor(2), tensor(4), tensor(2), tensor(2), tensor(2), tensor(2), tensor(1), tensor(3), tensor(1), tensor(8), tensor(2), tensor(2), tensor(12), tensor(9), tensor(2), tensor(2), tensor(1), tensor(1), tensor(1), tensor(2), tensor(1), tensor(1), tensor(2), tensor(1), tensor(5), tensor(2), tensor(1), tensor(2), tensor(1), tensor(2), tensor(5), tensor(2), tensor(6), tensor(1), tensor(1), tensor(1), tensor(1), tensor(3), tensor(3), tensor(23), tensor(3), tensor(1), tensor(1), tensor(1), tensor(2), tensor(1), tensor(2), tensor(4), tensor(1), tensor(3), tensor(1), tensor(9), tensor(8), tensor(1), tensor(2), tensor(2), tensor(5), tensor(9), tensor(2), tensor(4), tensor(2), tensor(1), tensor(3), tensor(5), tensor(1), tensor(4), tensor(3), tensor(10), tensor(5), tensor(1), tensor(4), tensor(3), tensor(13), tensor(7), tensor(2), tensor(1), tensor(1), tensor(1), tensor(1), tensor(7), tensor(3), tensor(5), tensor(1), tensor(3), tensor(1), tensor(2), tensor(1), tensor(4), tensor(1), tensor(4), tensor(1), tensor(1), tensor(2), tensor(1), tensor(13), tensor(2), tensor(1), tensor(2), tensor(9), tensor(1), tensor(1), tensor(2), tensor(1), tensor(2), tensor(1), tensor(1), tensor(1), tensor(1), tensor(1), tensor(1), tensor(1), tensor(2), tensor(13), tensor(4), tensor(1), tensor(2), tensor(1), tensor(1), tensor(5), tensor(1), tensor(3), tensor(1), tensor(1), tensor(2), tensor(5), tensor(2), tensor(14), tensor(4), tensor(1), tensor(1), tensor(1), tensor(2), tensor(3), tensor(1), tensor(1), tensor(2), tensor(2), tensor(5), tensor(1), tensor(8), tensor(10), tensor(2), tensor(1), tensor(1), tensor(1), tensor(3), tensor(2), tensor(1), tensor(4), tensor(1), tensor(2), tensor(6), tensor(4), tensor(1), tensor(5), tensor(2), tensor(2), tensor(2), tensor(2), tensor(2), tensor(2), tensor(1), tensor(6), tensor(1), tensor(8), tensor(2), tensor(1), tensor(1), tensor(13), tensor(1), tensor(6), tensor(2), tensor(2), tensor(1), tensor(5), tensor(5), tensor(1), tensor(4), tensor(2), tensor(2), tensor(3), tensor(31), tensor(55), tensor(1), tensor(2), tensor(4), tensor(2), tensor(5), tensor(2), tensor(1), tensor(1), tensor(1), tensor(12), tensor(1), tensor(1), tensor(1), tensor(1), tensor(1), tensor(2), tensor(58), tensor(8), tensor(1), tensor(4), tensor(5), tensor(1), tensor(5), tensor(6), tensor(3), tensor(1), tensor(1), tensor(1), tensor(1), tensor(2), tensor(7), tensor(9), tensor(28), tensor(1), tensor(1), tensor(4), tensor(2), tensor(10), tensor(2), tensor(4), tensor(4), tensor(5), tensor(1), tensor(2), tensor(1), tensor(1), tensor(1), tensor(1), tensor(8), tensor(1), tensor(16), tensor(8), tensor(1), tensor(4), tensor(1), tensor(2), tensor(4), tensor(1), tensor(5), tensor(3), tensor(4), tensor(1), tensor(1), tensor(2), tensor(3), tensor(1), tensor(1), tensor(19), tensor(1), tensor(2), tensor(1), tensor(2), tensor(1), tensor(1), tensor(2), tensor(3), tensor(1), tensor(2), tensor(4), tensor(11), tensor(1), tensor(2), tensor(22), tensor(1), tensor(4), tensor(23), tensor(2), tensor(1), tensor(2), tensor(1), tensor(1), tensor(1), tensor(4), tensor(1), tensor(5), tensor(8), tensor(1), tensor(6), tensor(1), tensor(3), tensor(6), tensor(6), tensor(1), tensor(5), tensor(6), tensor(9), tensor(2), tensor(4), tensor(4), tensor(3), tensor(2), tensor(1), tensor(1), tensor(1), tensor(1), tensor(2), tensor(3), tensor(1), tensor(5), tensor(2), tensor(3), tensor(1), tensor(10), tensor(2), tensor(7), tensor(9), tensor(1), tensor(1), tensor(4), tensor(8), tensor(2), tensor(1), tensor(4), tensor(2), tensor(4), tensor(1), tensor(5), tensor(1), tensor(4), tensor(1), tensor(4), tensor(5), tensor(7), tensor(3), tensor(2), tensor(1), tensor(2), tensor(7), tensor(6), tensor(3), tensor(2), tensor(2), tensor(1), tensor(5), tensor(1), tensor(1), tensor(2), tensor(1), tensor(2), tensor(1), tensor(62), tensor(5), tensor(2), tensor(1), tensor(1), tensor(2), tensor(2), tensor(1), tensor(3), tensor(1), tensor(1), tensor(2), tensor(3), tensor(5), tensor(1), tensor(6), tensor(2), tensor(3), tensor(6), tensor(7), tensor(2), tensor(3), tensor(3), tensor(1), tensor(3), tensor(2), tensor(2), tensor(1), tensor(6), tensor(2), tensor(12), tensor(2), tensor(2)}\n"
     ]
    }
   ],
   "source": [
    "import pickle as pkl\n",
    "import torch\n",
    "\n",
    "with open(\"./mapping/tokenized_phecode_icd.pkl\", \"rb\") as f:\n",
    "    tokenized_phecode_icd = pkl.load(f)\n",
    "\n",
    "keys = set(tokenized_phecode_icd.keys())\n",
    "print(\"number of keys\", len(keys))\n",
    "values = [ ele for liste in tokenized_phecode_icd.values()for ele in liste ]\n",
    "print(\"number of values\", len(values))\n",
    "\n",
    "with open(\"./mapping/phecode_ids.pkl\", \"rb\") as f:\n",
    "    phecode_ids = pkl.load(f)\n",
    "print(len(phecode_ids))\n",
    "\n",
    "\n",
    "seed_topic_matrix = torch.load(\"./phecode_mapping/seed_topic_matrix.pt\")\n",
    "print(seed_topic_matrix.shape)\n",
    "print(seed_topic_matrix[:,0])\n",
    "seed_num = torch.sum(seed_topic_matrix, axis = 0)\n",
    "print(len(seed_num))\n",
    "print(set(seed_num))"
   ]
  }
 ],
 "metadata": {
  "kernelspec": {
   "display_name": "Python 3.9.12 ('base')",
   "language": "python",
   "name": "python3"
  },
  "language_info": {
   "codemirror_mode": {
    "name": "ipython",
    "version": 3
   },
   "file_extension": ".py",
   "mimetype": "text/x-python",
   "name": "python",
   "nbconvert_exporter": "python",
   "pygments_lexer": "ipython3",
   "version": "3.9.12"
  },
  "orig_nbformat": 4,
  "vscode": {
   "interpreter": {
    "hash": "f8b40d688a12481f01eadf7380c47edd8a49484a47dba3db091451640e880c68"
   }
  }
 },
 "nbformat": 4,
 "nbformat_minor": 2
}
